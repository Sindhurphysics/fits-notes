{
 "cells": [
  {
   "cell_type": "code",
   "execution_count": 1,
   "metadata": {
    "collapsed": true
   },
   "outputs": [],
   "source": [
    "from astropy.io import fits\n",
    "from glob import glob\n",
    "import pandas as pd\n",
    "from math import sqrt \n"
   ]
  },
  {
   "cell_type": "code",
   "execution_count": 2,
   "metadata": {
    "collapsed": true
   },
   "outputs": [],
   "source": [
    "cdlt_names = ['CDLT0_Q', 'CDLT2_Q', 'CDLT4_Q', 'CDLT6_Q', 'CDLT8_Q', \n",
    "              'CDLT11_Q', 'CDLT0_A', 'CDLT2_A', 'CDLT4_A', 'CDLT6_A', 'CDLT8_A', 'CDLT11_A']"
   ]
  },
  {
   "cell_type": "code",
   "execution_count": 3,
   "metadata": {
    "collapsed": true
   },
   "outputs": [],
   "source": [
    "vdlt_names = ['VDLT0_Q', 'VDLT2_Q', 'VDLT4_Q', 'VDLT6_Q', 'VDLT8_Q', 'VDLT11_Q', \n",
    "              'VDLT0_A', 'VDLT2_A', 'VDLT4_A', 'VDLT6_A', 'VDLT8_A', 'VDLT11_A']"
   ]
  },
  {
   "cell_type": "code",
   "execution_count": 4,
   "metadata": {
    "collapsed": true
   },
   "outputs": [],
   "source": [
    "def retrive_data(hdulist):\n",
    "    result = []\n",
    "    for d in range(len(hdulist)):\n",
    "        hdu = hdulist[d]\n",
    "        for c in cdlt_names+vdlt_names:\n",
    "            result.append(hdu.header[c])\n",
    "    return result"
   ]
  },
  {
   "cell_type": "code",
   "execution_count": 5,
   "metadata": {
    "collapsed": false
   },
   "outputs": [],
   "source": [
    "Vx=fits.open(\"Vx.fits\")"
   ]
  },
  {
   "cell_type": "code",
   "execution_count": 6,
   "metadata": {
    "collapsed": false
   },
   "outputs": [
    {
     "name": "stdout",
     "output_type": "stream",
     "text": [
      "Filename: Vx.fits\n",
      "No.    Name         Type      Cards   Dimensions   Format\n",
      "0    PRIMARY     PrimaryHDU      76   (256, 256, 11)   float32   \n"
     ]
    }
   ],
   "source": [
    "Vx.info()"
   ]
  },
  {
   "cell_type": "code",
   "execution_count": 7,
   "metadata": {
    "collapsed": true
   },
   "outputs": [],
   "source": [
    "Vy=fits.open(\"Vy.fits\")"
   ]
  },
  {
   "cell_type": "code",
   "execution_count": 8,
   "metadata": {
    "collapsed": false
   },
   "outputs": [
    {
     "name": "stdout",
     "output_type": "stream",
     "text": [
      "Filename: Vy.fits\n",
      "No.    Name         Type      Cards   Dimensions   Format\n",
      "0    PRIMARY     PrimaryHDU      76   (256, 256, 11)   float32   \n"
     ]
    }
   ],
   "source": [
    "Vy.info()"
   ]
  },
  {
   "cell_type": "code",
   "execution_count": 9,
   "metadata": {
    "collapsed": true
   },
   "outputs": [],
   "source": [
    "Vx_data = retrive_data(Vx)\n",
    "Vy_data = retrive_data(Vy)"
   ]
  },
  {
   "cell_type": "code",
   "execution_count": 10,
   "metadata": {
    "collapsed": true
   },
   "outputs": [],
   "source": [
    "column_names = ['Header', 'Vx', 'Vy', 'Resultant_Vector']"
   ]
  },
  {
   "cell_type": "code",
   "execution_count": 11,
   "metadata": {
    "collapsed": true
   },
   "outputs": [],
   "source": [
    "df = pd.DataFrame(columns=column_names)"
   ]
  },
  {
   "cell_type": "code",
   "execution_count": 12,
   "metadata": {
    "collapsed": true
   },
   "outputs": [],
   "source": [
    "df['Header'] = cdlt_names + vdlt_names\n",
    "df['Vx'] = Vx_data\n",
    "df['Vy'] = Vy_data"
   ]
  },
  {
   "cell_type": "code",
   "execution_count": 13,
   "metadata": {
    "collapsed": true
   },
   "outputs": [],
   "source": [
    "def calculate_ResVector(row):\n",
    "    return sqrt(row['Vx']**2 + row['Vy']**2)"
   ]
  },
  {
   "cell_type": "code",
   "execution_count": 14,
   "metadata": {
    "collapsed": true
   },
   "outputs": [],
   "source": [
    "df['Resultant_Vector'] = df.apply(lambda k:  calculate_ResVector(k), axis=1)"
   ]
  },
  {
   "cell_type": "code",
   "execution_count": 15,
   "metadata": {
    "collapsed": false
   },
   "outputs": [
    {
     "data": {
      "text/html": [
       "<div>\n",
       "<table border=\"1\" class=\"dataframe\">\n",
       "  <thead>\n",
       "    <tr style=\"text-align: right;\">\n",
       "      <th></th>\n",
       "      <th>Header</th>\n",
       "      <th>Vx</th>\n",
       "      <th>Vy</th>\n",
       "      <th>Resultant_Vector</th>\n",
       "    </tr>\n",
       "  </thead>\n",
       "  <tbody>\n",
       "    <tr>\n",
       "      <th>0</th>\n",
       "      <td>CDLT0_Q</td>\n",
       "      <td>0.0028</td>\n",
       "      <td>0.0028</td>\n",
       "      <td>0.003960</td>\n",
       "    </tr>\n",
       "    <tr>\n",
       "      <th>1</th>\n",
       "      <td>CDLT2_Q</td>\n",
       "      <td>0.0041</td>\n",
       "      <td>0.0041</td>\n",
       "      <td>0.005798</td>\n",
       "    </tr>\n",
       "    <tr>\n",
       "      <th>2</th>\n",
       "      <td>CDLT4_Q</td>\n",
       "      <td>0.0064</td>\n",
       "      <td>0.0064</td>\n",
       "      <td>0.009051</td>\n",
       "    </tr>\n",
       "    <tr>\n",
       "      <th>3</th>\n",
       "      <td>CDLT6_Q</td>\n",
       "      <td>0.0046</td>\n",
       "      <td>0.0046</td>\n",
       "      <td>0.006505</td>\n",
       "    </tr>\n",
       "    <tr>\n",
       "      <th>4</th>\n",
       "      <td>CDLT8_Q</td>\n",
       "      <td>0.0047</td>\n",
       "      <td>0.0047</td>\n",
       "      <td>0.006647</td>\n",
       "    </tr>\n",
       "    <tr>\n",
       "      <th>5</th>\n",
       "      <td>CDLT11_Q</td>\n",
       "      <td>0.0037</td>\n",
       "      <td>0.0037</td>\n",
       "      <td>0.005233</td>\n",
       "    </tr>\n",
       "    <tr>\n",
       "      <th>6</th>\n",
       "      <td>CDLT0_A</td>\n",
       "      <td>0.0063</td>\n",
       "      <td>0.0063</td>\n",
       "      <td>0.008910</td>\n",
       "    </tr>\n",
       "    <tr>\n",
       "      <th>7</th>\n",
       "      <td>CDLT2_A</td>\n",
       "      <td>0.0110</td>\n",
       "      <td>0.0110</td>\n",
       "      <td>0.015556</td>\n",
       "    </tr>\n",
       "    <tr>\n",
       "      <th>8</th>\n",
       "      <td>CDLT4_A</td>\n",
       "      <td>0.0087</td>\n",
       "      <td>0.0087</td>\n",
       "      <td>0.012304</td>\n",
       "    </tr>\n",
       "    <tr>\n",
       "      <th>9</th>\n",
       "      <td>CDLT6_A</td>\n",
       "      <td>0.0097</td>\n",
       "      <td>0.0097</td>\n",
       "      <td>0.013718</td>\n",
       "    </tr>\n",
       "    <tr>\n",
       "      <th>10</th>\n",
       "      <td>CDLT8_A</td>\n",
       "      <td>0.0067</td>\n",
       "      <td>0.0067</td>\n",
       "      <td>0.009475</td>\n",
       "    </tr>\n",
       "    <tr>\n",
       "      <th>11</th>\n",
       "      <td>CDLT11_A</td>\n",
       "      <td>0.0031</td>\n",
       "      <td>0.0031</td>\n",
       "      <td>0.004384</td>\n",
       "    </tr>\n",
       "    <tr>\n",
       "      <th>12</th>\n",
       "      <td>VDLT0_Q</td>\n",
       "      <td>7.8000</td>\n",
       "      <td>7.8000</td>\n",
       "      <td>11.030866</td>\n",
       "    </tr>\n",
       "    <tr>\n",
       "      <th>13</th>\n",
       "      <td>VDLT2_Q</td>\n",
       "      <td>7.5000</td>\n",
       "      <td>7.5000</td>\n",
       "      <td>10.606602</td>\n",
       "    </tr>\n",
       "    <tr>\n",
       "      <th>14</th>\n",
       "      <td>VDLT4_Q</td>\n",
       "      <td>8.9000</td>\n",
       "      <td>8.9000</td>\n",
       "      <td>12.586501</td>\n",
       "    </tr>\n",
       "    <tr>\n",
       "      <th>15</th>\n",
       "      <td>VDLT6_Q</td>\n",
       "      <td>9.4000</td>\n",
       "      <td>9.4000</td>\n",
       "      <td>13.293607</td>\n",
       "    </tr>\n",
       "    <tr>\n",
       "      <th>16</th>\n",
       "      <td>VDLT8_Q</td>\n",
       "      <td>13.1000</td>\n",
       "      <td>13.1000</td>\n",
       "      <td>18.526198</td>\n",
       "    </tr>\n",
       "    <tr>\n",
       "      <th>17</th>\n",
       "      <td>VDLT11_Q</td>\n",
       "      <td>12.9000</td>\n",
       "      <td>12.9000</td>\n",
       "      <td>18.243355</td>\n",
       "    </tr>\n",
       "    <tr>\n",
       "      <th>18</th>\n",
       "      <td>VDLT0_A</td>\n",
       "      <td>58.3000</td>\n",
       "      <td>58.3000</td>\n",
       "      <td>82.448651</td>\n",
       "    </tr>\n",
       "    <tr>\n",
       "      <th>19</th>\n",
       "      <td>VDLT2_A</td>\n",
       "      <td>56.4000</td>\n",
       "      <td>56.4000</td>\n",
       "      <td>79.761645</td>\n",
       "    </tr>\n",
       "    <tr>\n",
       "      <th>20</th>\n",
       "      <td>VDLT4_A</td>\n",
       "      <td>51.1000</td>\n",
       "      <td>51.1000</td>\n",
       "      <td>72.266313</td>\n",
       "    </tr>\n",
       "    <tr>\n",
       "      <th>21</th>\n",
       "      <td>VDLT6_A</td>\n",
       "      <td>45.1000</td>\n",
       "      <td>45.1000</td>\n",
       "      <td>63.781032</td>\n",
       "    </tr>\n",
       "    <tr>\n",
       "      <th>22</th>\n",
       "      <td>VDLT8_A</td>\n",
       "      <td>34.5000</td>\n",
       "      <td>34.5000</td>\n",
       "      <td>48.790368</td>\n",
       "    </tr>\n",
       "    <tr>\n",
       "      <th>23</th>\n",
       "      <td>VDLT11_A</td>\n",
       "      <td>28.1000</td>\n",
       "      <td>28.1000</td>\n",
       "      <td>39.739401</td>\n",
       "    </tr>\n",
       "  </tbody>\n",
       "</table>\n",
       "</div>"
      ],
      "text/plain": [
       "      Header       Vx       Vy  Resultant_Vector\n",
       "0    CDLT0_Q   0.0028   0.0028          0.003960\n",
       "1    CDLT2_Q   0.0041   0.0041          0.005798\n",
       "2    CDLT4_Q   0.0064   0.0064          0.009051\n",
       "3    CDLT6_Q   0.0046   0.0046          0.006505\n",
       "4    CDLT8_Q   0.0047   0.0047          0.006647\n",
       "5   CDLT11_Q   0.0037   0.0037          0.005233\n",
       "6    CDLT0_A   0.0063   0.0063          0.008910\n",
       "7    CDLT2_A   0.0110   0.0110          0.015556\n",
       "8    CDLT4_A   0.0087   0.0087          0.012304\n",
       "9    CDLT6_A   0.0097   0.0097          0.013718\n",
       "10   CDLT8_A   0.0067   0.0067          0.009475\n",
       "11  CDLT11_A   0.0031   0.0031          0.004384\n",
       "12   VDLT0_Q   7.8000   7.8000         11.030866\n",
       "13   VDLT2_Q   7.5000   7.5000         10.606602\n",
       "14   VDLT4_Q   8.9000   8.9000         12.586501\n",
       "15   VDLT6_Q   9.4000   9.4000         13.293607\n",
       "16   VDLT8_Q  13.1000  13.1000         18.526198\n",
       "17  VDLT11_Q  12.9000  12.9000         18.243355\n",
       "18   VDLT0_A  58.3000  58.3000         82.448651\n",
       "19   VDLT2_A  56.4000  56.4000         79.761645\n",
       "20   VDLT4_A  51.1000  51.1000         72.266313\n",
       "21   VDLT6_A  45.1000  45.1000         63.781032\n",
       "22   VDLT8_A  34.5000  34.5000         48.790368\n",
       "23  VDLT11_A  28.1000  28.1000         39.739401"
      ]
     },
     "execution_count": 15,
     "metadata": {},
     "output_type": "execute_result"
    }
   ],
   "source": [
    "df"
   ]
  },
  {
   "cell_type": "code",
   "execution_count": 16,
   "metadata": {
    "collapsed": true
   },
   "outputs": [],
   "source": [
    "df.to_excel(\"output.xlsx\")"
   ]
  },
  {
   "cell_type": "code",
   "execution_count": null,
   "metadata": {
    "collapsed": true
   },
   "outputs": [],
   "source": []
  }
 ],
 "metadata": {
  "kernelspec": {
   "display_name": "Python 2",
   "language": "python",
   "name": "python2"
  },
  "language_info": {
   "codemirror_mode": {
    "name": "ipython",
    "version": 2
   },
   "file_extension": ".py",
   "mimetype": "text/x-python",
   "name": "python",
   "nbconvert_exporter": "python",
   "pygments_lexer": "ipython2",
   "version": "2.7.11"
  }
 },
 "nbformat": 4,
 "nbformat_minor": 0
}
